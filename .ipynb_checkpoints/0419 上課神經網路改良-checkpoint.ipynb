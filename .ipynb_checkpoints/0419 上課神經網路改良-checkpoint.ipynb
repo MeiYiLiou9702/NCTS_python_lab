{
 "cells": [
  {
   "cell_type": "code",
   "execution_count": 26,
   "metadata": {},
   "outputs": [],
   "source": [
    "%matplotlib inline\n",
    "\n",
    "import numpy as np\n",
    "import matplotlib.pyplot as plt\n",
    "from keras.datasets import mnist"
   ]
  },
  {
   "cell_type": "code",
   "execution_count": 27,
   "metadata": {},
   "outputs": [],
   "source": [
    "#讀入mnist data\n",
    "(x_train, y_train), (x_test, y_test) = mnist.load_data()"
   ]
  },
  {
   "cell_type": "code",
   "execution_count": 28,
   "metadata": {},
   "outputs": [
    {
     "name": "stdout",
     "output_type": "stream",
     "text": [
      "60000 ; 10000\n"
     ]
    }
   ],
   "source": [
    "#檢視資料筆數\n",
    "print(len(x_train),';',len(x_test))"
   ]
  },
  {
   "cell_type": "code",
   "execution_count": 29,
   "metadata": {},
   "outputs": [],
   "source": [
    "X = x_train[90]"
   ]
  },
  {
   "cell_type": "code",
   "execution_count": 30,
   "metadata": {},
   "outputs": [
    {
     "data": {
      "text/plain": [
       "<matplotlib.image.AxesImage at 0x234f23ba588>"
      ]
     },
     "execution_count": 30,
     "metadata": {},
     "output_type": "execute_result"
    },
    {
     "data": {
      "image/png": "[encoded data removed]",
      "text/plain": [
       "<Figure size 432x288 with 1 Axes>"
      ]
     },
     "metadata": {
      "needs_background": "light"
     },
     "output_type": "display_data"
    }
   ],
   "source": [
    "plt.imshow(X,cmap='Greys')"
   ]
  },
  {
   "cell_type": "markdown",
   "metadata": {},
   "source": [
    "#格式整理"
   ]
  },
  {
   "cell_type": "code",
   "execution_count": 31,
   "metadata": {},
   "outputs": [],
   "source": [
    "x_train = x_train.reshape(60000,784)\n",
    "x_test = x_test.reshape(10000,784)"
   ]
  },
  {
   "cell_type": "markdown",
   "metadata": {},
   "source": [
    "One-hot-encoding"
   ]
  },
  {
   "cell_type": "code",
   "execution_count": 32,
   "metadata": {},
   "outputs": [],
   "source": [
    "from keras.utils import np_utils"
   ]
  },
  {
   "cell_type": "code",
   "execution_count": 33,
   "metadata": {},
   "outputs": [],
   "source": [
    "y_train = np_utils.to_categorical(y_train, 10)\n",
    "y_test = np_utils.to_categorical(y_test, 10)"
   ]
  },
  {
   "cell_type": "markdown",
   "metadata": {},
   "source": [
    "類神經網路"
   ]
  },
  {
   "cell_type": "code",
   "execution_count": 34,
   "metadata": {},
   "outputs": [],
   "source": [
    "from keras.models import Sequential\n",
    "from keras.layers import Dense, Activation\n",
    "from keras.optimizers import SGD"
   ]
  },
  {
   "cell_type": "code",
   "execution_count": 35,
   "metadata": {},
   "outputs": [],
   "source": [
    "NNm = Sequential()"
   ]
  },
  {
   "cell_type": "code",
   "execution_count": 36,
   "metadata": {},
   "outputs": [
    {
     "name": "stdout",
     "output_type": "stream",
     "text": [
      "WARNING:tensorflow:From D:\\ProgramData\\Anaconda\\envs\\snake\\lib\\site-packages\\tensorflow\\python\\framework\\op_def_library.py:263: colocate_with (from tensorflow.python.framework.ops) is deprecated and will be removed in a future version.\n",
      "Instructions for updating:\n",
      "Colocations handled automatically by placer.\n"
     ]
    }
   ],
   "source": [
    "NNm.add(Dense(600, input_dim=784))\n",
    "NNm.add(Activation('sigmoid'))\n",
    "NNm.add(Dense(60))\n",
    "NNm.add(Activation('sigmoid'))\n",
    "NNm.add(Dense(50))\n",
    "NNm.add(Activation('sigmoid'))\n",
    "#輸出層\n",
    "NNm.add(Dense(10))\n",
    "NNm.add(Activation('softmax'))"
   ]
  },
  {
   "cell_type": "code",
   "execution_count": 37,
   "metadata": {},
   "outputs": [],
   "source": [
    "NNm.compile(loss='mse', optimizer=SGD(lr=0.087), metrics=['accuracy'])"
   ]
  },
  {
   "cell_type": "code",
   "execution_count": 39,
   "metadata": {},
   "outputs": [
    {
     "name": "stdout",
     "output_type": "stream",
     "text": [
      "_________________________________________________________________\n",
      "Layer (type)                 Output Shape              Param #   \n",
      "=================================================================\n",
      "dense_1 (Dense)              (None, 600)               471000    \n",
      "_________________________________________________________________\n",
      "activation_1 (Activation)    (None, 600)               0         \n",
      "_________________________________________________________________\n",
      "dense_2 (Dense)              (None, 60)                36060     \n",
      "_________________________________________________________________\n",
      "activation_2 (Activation)    (None, 60)                0         \n",
      "_________________________________________________________________\n",
      "dense_3 (Dense)              (None, 50)                3050      \n",
      "_________________________________________________________________\n",
      "activation_3 (Activation)    (None, 50)                0         \n",
      "_________________________________________________________________\n",
      "dense_4 (Dense)              (None, 10)                510       \n",
      "_________________________________________________________________\n",
      "activation_4 (Activation)    (None, 10)                0         \n",
      "=================================================================\n",
      "Total params: 510,620\n",
      "Trainable params: 510,620\n",
      "Non-trainable params: 0\n",
      "_________________________________________________________________\n"
     ]
    }
   ],
   "source": [
    "NNm.summary()"
   ]
  },
  {
   "cell_type": "code",
   "execution_count": 40,
   "metadata": {},
   "outputs": [
    {
     "name": "stdout",
     "output_type": "stream",
     "text": [
      "WARNING:tensorflow:From D:\\ProgramData\\Anaconda\\envs\\snake\\lib\\site-packages\\tensorflow\\python\\ops\\math_ops.py:3066: to_int32 (from tensorflow.python.ops.math_ops) is deprecated and will be removed in a future version.\n",
      "Instructions for updating:\n",
      "Use tf.cast instead.\n",
      "Epoch 1/50\n",
      "60000/60000 [==============================] - 9s 157us/step - loss: 0.0914 - acc: 0.1693\n",
      "Epoch 2/50\n",
      "60000/60000 [==============================] - 9s 145us/step - loss: 0.0885 - acc: 0.2828\n",
      "Epoch 3/50\n",
      "60000/60000 [==============================] - 9s 156us/step - loss: 0.0868 - acc: 0.2716 0s - loss: 0.086\n",
      "Epoch 4/50\n",
      "60000/60000 [==============================] - 8s 136us/step - loss: 0.0838 - acc: 0.2949\n",
      "Epoch 5/50\n",
      "60000/60000 [==============================] - 8s 140us/step - loss: 0.0801 - acc: 0.3574\n",
      "Epoch 6/50\n",
      "60000/60000 [==============================] - 9s 155us/step - loss: 0.0768 - acc: 0.4758\n",
      "Epoch 7/50\n",
      "60000/60000 [==============================] - 9s 149us/step - loss: 0.0734 - acc: 0.5565\n",
      "Epoch 8/50\n",
      "60000/60000 [==============================] - 8s 139us/step - loss: 0.0689 - acc: 0.6177\n",
      "Epoch 9/50\n",
      "60000/60000 [==============================] - 9s 146us/step - loss: 0.0631 - acc: 0.6506\n",
      "Epoch 10/50\n",
      "60000/60000 [==============================] - 9s 152us/step - loss: 0.0570 - acc: 0.6764\n",
      "Epoch 11/50\n",
      "60000/60000 [==============================] - 9s 149us/step - loss: 0.0513 - acc: 0.7022\n",
      "Epoch 12/50\n",
      "60000/60000 [==============================] - 9s 156us/step - loss: 0.0459 - acc: 0.7320\n",
      "Epoch 13/50\n",
      "60000/60000 [==============================] - 9s 143us/step - loss: 0.0409 - acc: 0.7762\n",
      "Epoch 14/50\n",
      "60000/60000 [==============================] - 9s 143us/step - loss: 0.0364 - acc: 0.8111\n",
      "Epoch 15/50\n",
      "60000/60000 [==============================] - 10s 167us/step - loss: 0.0323 - acc: 0.8451\n",
      "Epoch 16/50\n",
      "60000/60000 [==============================] - 8s 140us/step - loss: 0.0285 - acc: 0.8702\n",
      "Epoch 17/50\n",
      "60000/60000 [==============================] - 8s 140us/step - loss: 0.0252 - acc: 0.8875\n",
      "Epoch 18/50\n",
      "60000/60000 [==============================] - 8s 135us/step - loss: 0.0224 - acc: 0.8986\n",
      "Epoch 19/50\n",
      "60000/60000 [==============================] - 8s 138us/step - loss: 0.0201 - acc: 0.9056\n",
      "Epoch 20/50\n",
      "60000/60000 [==============================] - 9s 152us/step - loss: 0.0183 - acc: 0.9110\n",
      "Epoch 21/50\n",
      "60000/60000 [==============================] - 9s 152us/step - loss: 0.0168 - acc: 0.9156\n",
      "Epoch 22/50\n",
      "60000/60000 [==============================] - 9s 149us/step - loss: 0.0155 - acc: 0.9198\n",
      "Epoch 23/50\n",
      "60000/60000 [==============================] - 9s 150us/step - loss: 0.0145 - acc: 0.9237\n",
      "Epoch 24/50\n",
      "60000/60000 [==============================] - 9s 149us/step - loss: 0.0137 - acc: 0.9277\n",
      "Epoch 25/50\n",
      "60000/60000 [==============================] - 9s 147us/step - loss: 0.0129 - acc: 0.9305\n",
      "Epoch 26/50\n",
      "60000/60000 [==============================] - 9s 148us/step - loss: 0.0123 - acc: 0.9342\n",
      "Epoch 27/50\n",
      "60000/60000 [==============================] - 9s 153us/step - loss: 0.0117 - acc: 0.9370\n",
      "Epoch 28/50\n",
      "60000/60000 [==============================] - 10s 161us/step - loss: 0.0112 - acc: 0.9395\n",
      "Epoch 29/50\n",
      "60000/60000 [==============================] - 9s 155us/step - loss: 0.0107 - acc: 0.9419\n",
      "Epoch 30/50\n",
      "60000/60000 [==============================] - 9s 147us/step - loss: 0.0102 - acc: 0.9443\n",
      "Epoch 31/50\n",
      "60000/60000 [==============================] - 9s 147us/step - loss: 0.0098 - acc: 0.9463\n",
      "Epoch 32/50\n",
      "60000/60000 [==============================] - 9s 145us/step - loss: 0.0095 - acc: 0.9486\n",
      "Epoch 33/50\n",
      "60000/60000 [==============================] - 9s 146us/step - loss: 0.0091 - acc: 0.9498\n",
      "Epoch 34/50\n",
      "60000/60000 [==============================] - 9s 144us/step - loss: 0.0088 - acc: 0.9521\n",
      "Epoch 35/50\n",
      "60000/60000 [==============================] - 9s 146us/step - loss: 0.0085 - acc: 0.9539 0s - loss: 0.\n",
      "Epoch 36/50\n",
      "60000/60000 [==============================] - 9s 145us/step - loss: 0.0082 - acc: 0.9552\n",
      "Epoch 37/50\n",
      "60000/60000 [==============================] - 9s 146us/step - loss: 0.0080 - acc: 0.9567\n",
      "Epoch 38/50\n",
      "60000/60000 [==============================] - 9s 148us/step - loss: 0.0077 - acc: 0.9581\n",
      "Epoch 39/50\n",
      "60000/60000 [==============================] - 10s 160us/step - loss: 0.0075 - acc: 0.9594\n",
      "Epoch 40/50\n",
      "60000/60000 [==============================] - 9s 151us/step - loss: 0.0072 - acc: 0.9602\n",
      "Epoch 41/50\n",
      "60000/60000 [==============================] - 8s 136us/step - loss: 0.0070 - acc: 0.9622\n",
      "Epoch 42/50\n",
      "60000/60000 [==============================] - 8s 139us/step - loss: 0.0068 - acc: 0.9633\n",
      "Epoch 43/50\n",
      "60000/60000 [==============================] - 9s 143us/step - loss: 0.0066 - acc: 0.9643\n",
      "Epoch 44/50\n",
      "60000/60000 [==============================] - 8s 137us/step - loss: 0.0064 - acc: 0.9654\n",
      "Epoch 45/50\n",
      "60000/60000 [==============================] - 8s 134us/step - loss: 0.0062 - acc: 0.9662\n",
      "Epoch 46/50\n",
      "60000/60000 [==============================] - 9s 150us/step - loss: 0.0060 - acc: 0.9677\n",
      "Epoch 47/50\n",
      "60000/60000 [==============================] - 9s 148us/step - loss: 0.0059 - acc: 0.9687\n",
      "Epoch 48/50\n",
      "60000/60000 [==============================] - 8s 136us/step - loss: 0.0057 - acc: 0.9695\n",
      "Epoch 49/50\n",
      "60000/60000 [==============================] - 9s 143us/step - loss: 0.0055 - acc: 0.9704\n",
      "Epoch 50/50\n",
      "60000/60000 [==============================] - 8s 134us/step - loss: 0.0054 - acc: 0.9712\n"
     ]
    },
    {
     "data": {
      "text/plain": [
       "<keras.callbacks.History at 0x234f1e7fd30>"
      ]
     },
     "execution_count": 40,
     "metadata": {},
     "output_type": "execute_result"
    }
   ],
   "source": [
    "NNm.fit(x_train, y_train, batch_size=60, epochs=50)"
   ]
  },
  {
   "cell_type": "markdown",
   "metadata": {},
   "source": [
    "測試結果"
   ]
  },
  {
   "cell_type": "code",
   "execution_count": 41,
   "metadata": {},
   "outputs": [],
   "source": [
    "from ipywidgets import interact_manual"
   ]
  },
  {
   "cell_type": "code",
   "execution_count": 43,
   "metadata": {},
   "outputs": [],
   "source": [
    "predict = NNm.predict_classes(x_test)"
   ]
  },
  {
   "cell_type": "code",
   "execution_count": 44,
   "metadata": {},
   "outputs": [],
   "source": [
    "def test(test_code):\n",
    "    plt.imshow(x_test[test_code].reshape(28,28), cmap='Greys')\n",
    "    print('The answer from NN is :', predict[test_code])"
   ]
  },
  {
   "cell_type": "code",
   "execution_count": 45,
   "metadata": {},
   "outputs": [
    {
     "data": {
      "application/vnd.jupyter.widget-view+json": {
       "model_id": "f6d477c550374533a6ac3d92db4a67b7",
       "version_major": 2,
       "version_minor": 0
      },
      "text/plain": [
       "interactive(children=(IntSlider(value=4999, description='test_code', max=9999), Button(description='Run Intera…"
      ]
     },
     "metadata": {},
     "output_type": "display_data"
    },
    {
     "data": {
      "text/plain": [
       "<function __main__.test(test_code)>"
      ]
     },
     "execution_count": 45,
     "metadata": {},
     "output_type": "execute_result"
    }
   ],
   "source": [
    "interact_manual(test, test_code=(0, 9999))"
   ]
  },
  {
   "cell_type": "markdown",
   "metadata": {},
   "source": [
    "測試結果"
   ]
  },
  {
   "cell_type": "code",
   "execution_count": 47,
   "metadata": {},
   "outputs": [
    {
     "name": "stdout",
     "output_type": "stream",
     "text": [
      "10000/10000 [==============================] - 1s 92us/step\n"
     ]
    }
   ],
   "source": [
    "score = NNm.evaluate(x_test, y_test)"
   ]
  },
  {
   "cell_type": "code",
   "execution_count": 49,
   "metadata": {},
   "outputs": [
    {
     "name": "stdout",
     "output_type": "stream",
     "text": [
      "loss:  0.008299491412937642\n",
      "Correct_rate is  0.9469\n"
     ]
    }
   ],
   "source": [
    "print('loss: ', score[0])\n",
    "print('Correct_rate is ', score[1])"
   ]
  }
 ],
 "metadata": {
  "kernelspec": {
   "display_name": "Python 3",
   "language": "python",
   "name": "python3"
  },
  "language_info": {
   "codemirror_mode": {
    "name": "ipython",
    "version": 3
   },
   "file_extension": ".py",
   "mimetype": "text/x-python",
   "name": "python",
   "nbconvert_exporter": "python",
   "pygments_lexer": "ipython3",
   "version": "3.6.8"
  }
 },
 "nbformat": 4,
 "nbformat_minor": 2
}
