{
 "cells": [
  {
   "cell_type": "code",
   "execution_count": 37,
   "metadata": {},
   "outputs": [
    {
     "name": "stdout",
     "output_type": "stream",
     "text": [
      "env: KREAS_BACKEND=tensorflow\n"
     ]
    }
   ],
   "source": [
    "%env KREAS_BACKEND=tensorflow\n",
    "%matplotlib inline\n",
    "\n",
    "import numpy as np\n",
    "import matplotlib.pyplot as plt\n",
    "\n",
    "#NN相關的\n",
    "from keras.models import Sequential\n",
    "from keras.layers.core import Dense,Activation\n",
    "from keras.optimizers import SGD,Adam\n",
    "\n",
    "from keras.datasets import mnist #資料庫"
   ]
  },
  {
   "cell_type": "markdown",
   "metadata": {},
   "source": [
    "# 資料輸入\n",
    "從mnist資料庫載入訓練資料"
   ]
  },
  {
   "cell_type": "code",
   "execution_count": 21,
   "metadata": {},
   "outputs": [],
   "source": [
    "#讀入mnist data\n",
    "(x_train0, y_train0), (x_test0, y_test0) = mnist.load_data()"
   ]
  },
  {
   "cell_type": "markdown",
   "metadata": {},
   "source": [
    "檢視資料筆數"
   ]
  },
  {
   "cell_type": "code",
   "execution_count": 22,
   "metadata": {},
   "outputs": [
    {
     "name": "stdout",
     "output_type": "stream",
     "text": [
      "共 60000 筆訓練資料，每筆資料尺寸為 28 x 28\n",
      "共 10000 筆測試資料，每筆資料尺寸為 28 x 28\n"
     ]
    }
   ],
   "source": [
    "print(\"共 %d 筆訓練資料，每筆資料尺寸為 %d x %d\" %x_train0.shape)\n",
    "print(\"共 %d 筆測試資料，每筆資料尺寸為 %d x %d\" %x_test0.shape)"
   ]
  },
  {
   "cell_type": "markdown",
   "metadata": {},
   "source": [
    "圖片長像"
   ]
  },
  {
   "cell_type": "code",
   "execution_count": 24,
   "metadata": {},
   "outputs": [
    {
     "data": {
      "text/plain": [
       "<matplotlib.image.AxesImage at 0x1c1c1e37e80>"
      ]
     },
     "execution_count": 24,
     "metadata": {},
     "output_type": "execute_result"
    },
    {
     "data": {
      "image/png": "[encoded data removed]",
      "text/plain": [
       "<Figure size 432x288 with 1 Axes>"
      ]
     },
     "metadata": {
      "needs_background": "light"
     },
     "output_type": "display_data"
    }
   ],
   "source": [
    "X = x_train0[90]\n",
    "plt.imshow(X,cmap='Greys')"
   ]
  },
  {
   "cell_type": "markdown",
   "metadata": {},
   "source": [
    "### 資料處理"
   ]
  },
  {
   "cell_type": "code",
   "execution_count": 25,
   "metadata": {},
   "outputs": [],
   "source": [
    "x_train0 = x_train0.reshape(60000,784)\n",
    "x_test0 = x_test0.reshape(10000,784)"
   ]
  },
  {
   "cell_type": "markdown",
   "metadata": {},
   "source": [
    "One-hot-encoding"
   ]
  },
  {
   "cell_type": "code",
   "execution_count": 27,
   "metadata": {},
   "outputs": [],
   "source": [
    "from keras.utils import to_categorical #整理資料的東西\n",
    "\n",
    "y_train0 = to_categorical(y_train0, 10)\n",
    "y_test0 = to_categorical(y_test0, 10)"
   ]
  },
  {
   "cell_type": "markdown",
   "metadata": {},
   "source": [
    "# 開始架神經網絡\n",
    "## 1.用Sequential的方式建一個原來的，以利於後續比較\n",
    "<img src=\"0430/NN_O.jpg\" alt=\"drawing\" />"
   ]
  },
  {
   "cell_type": "code",
   "execution_count": 30,
   "metadata": {},
   "outputs": [],
   "source": [
    "NNm = Sequential()\n",
    "NNm.add(Dense(600, input_dim=784))\n",
    "NNm.add(Activation('sigmoid'))\n",
    "NNm.add(Dense(750))\n",
    "NNm.add(Activation('relu'))\n",
    "NNm.add(Dense(500))\n",
    "NNm.add(Activation('sigmoid'))\n",
    "#輸出層\n",
    "NNm.add(Dense(10))\n",
    "NNm.add(Activation('softmax'))"
   ]
  },
  {
   "cell_type": "code",
   "execution_count": 31,
   "metadata": {},
   "outputs": [
    {
     "name": "stdout",
     "output_type": "stream",
     "text": [
      "_________________________________________________________________\n",
      "Layer (type)                 Output Shape              Param #   \n",
      "=================================================================\n",
      "dense_5 (Dense)              (None, 600)               471000    \n",
      "_________________________________________________________________\n",
      "activation_5 (Activation)    (None, 600)               0         \n",
      "_________________________________________________________________\n",
      "dense_6 (Dense)              (None, 750)               450750    \n",
      "_________________________________________________________________\n",
      "activation_6 (Activation)    (None, 750)               0         \n",
      "_________________________________________________________________\n",
      "dense_7 (Dense)              (None, 500)               375500    \n",
      "_________________________________________________________________\n",
      "activation_7 (Activation)    (None, 500)               0         \n",
      "_________________________________________________________________\n",
      "dense_8 (Dense)              (None, 10)                5010      \n",
      "_________________________________________________________________\n",
      "activation_8 (Activation)    (None, 10)                0         \n",
      "=================================================================\n",
      "Total params: 1,302,260\n",
      "Trainable params: 1,302,260\n",
      "Non-trainable params: 0\n",
      "_________________________________________________________________\n"
     ]
    }
   ],
   "source": [
    "NNm.compile(loss='mse', optimizer=SGD(lr=0.087), metrics=['accuracy'])\n",
    "NNm.summary()"
   ]
  },
  {
   "cell_type": "code",
   "execution_count": 34,
   "metadata": {},
   "outputs": [
    {
     "name": "stdout",
     "output_type": "stream",
     "text": [
      "WARNING:tensorflow:From D:\\ProgramData\\Anaconda\\envs\\snake\\lib\\site-packages\\tensorflow\\python\\ops\\math_ops.py:3066: to_int32 (from tensorflow.python.ops.math_ops) is deprecated and will be removed in a future version.\n",
      "Instructions for updating:\n",
      "Use tf.cast instead.\n",
      "Epoch 1/50\n",
      "60000/60000 [==============================] - 17s 289us/step - loss: 0.0788 - acc: 0.3720\n",
      "Epoch 2/50\n",
      "60000/60000 [==============================] - 17s 281us/step - loss: 0.0467 - acc: 0.7320\n",
      "Epoch 3/50\n",
      "60000/60000 [==============================] - 17s 280us/step - loss: 0.0258 - acc: 0.8672\n",
      "Epoch 4/50\n",
      "60000/60000 [==============================] - 17s 281us/step - loss: 0.0182 - acc: 0.89720s - loss: 0.0182 - acc: \n",
      "Epoch 5/50\n",
      "60000/60000 [==============================] - 17s 281us/step - loss: 0.0149 - acc: 0.9112\n",
      "Epoch 6/50\n",
      "60000/60000 [==============================] - 17s 281us/step - loss: 0.0130 - acc: 0.9215\n",
      "Epoch 7/50\n",
      "60000/60000 [==============================] - 17s 279us/step - loss: 0.0118 - acc: 0.9298\n",
      "Epoch 8/50\n",
      "60000/60000 [==============================] - 17s 280us/step - loss: 0.0108 - acc: 0.9351\n",
      "Epoch 9/50\n",
      "60000/60000 [==============================] - 17s 281us/step - loss: 0.0099 - acc: 0.9407\n",
      "Epoch 10/50\n",
      "60000/60000 [==============================] - 17s 283us/step - loss: 0.0093 - acc: 0.9443\n",
      "Epoch 11/50\n",
      "60000/60000 [==============================] - 17s 282us/step - loss: 0.0087 - acc: 0.94801s - loss: 0.008 - ETA: 0s - loss: 0.0087 - acc:\n",
      "Epoch 12/50\n",
      "60000/60000 [==============================] - 17s 282us/step - loss: 0.0081 - acc: 0.9516\n",
      "Epoch 13/50\n",
      "60000/60000 [==============================] - 17s 285us/step - loss: 0.0076 - acc: 0.9557\n",
      "Epoch 14/50\n",
      "60000/60000 [==============================] - 17s 284us/step - loss: 0.0072 - acc: 0.9582\n",
      "Epoch 15/50\n",
      "60000/60000 [==============================] - 17s 284us/step - loss: 0.0068 - acc: 0.9608\n",
      "Epoch 16/50\n",
      "60000/60000 [==============================] - 17s 287us/step - loss: 0.0064 - acc: 0.9630\n",
      "Epoch 17/50\n",
      "60000/60000 [==============================] - 17s 288us/step - loss: 0.0061 - acc: 0.9651\n",
      "Epoch 18/50\n",
      "60000/60000 [==============================] - 17s 286us/step - loss: 0.0057 - acc: 0.9671\n",
      "Epoch 19/50\n",
      "60000/60000 [==============================] - 19s 310us/step - loss: 0.0054 - acc: 0.9692\n",
      "Epoch 20/50\n",
      "60000/60000 [==============================] - 18s 295us/step - loss: 0.0052 - acc: 0.9707\n",
      "Epoch 21/50\n",
      "60000/60000 [==============================] - 17s 281us/step - loss: 0.0050 - acc: 0.97250s - loss: 0.0050 - acc:\n",
      "Epoch 22/50\n",
      "60000/60000 [==============================] - 17s 283us/step - loss: 0.0047 - acc: 0.9742\n",
      "Epoch 23/50\n",
      "60000/60000 [==============================] - 17s 283us/step - loss: 0.0044 - acc: 0.9760\n",
      "Epoch 24/50\n",
      "60000/60000 [==============================] - 17s 283us/step - loss: 0.0042 - acc: 0.9767\n",
      "Epoch 25/50\n",
      "60000/60000 [==============================] - 17s 286us/step - loss: 0.0041 - acc: 0.9777\n",
      "Epoch 26/50\n",
      "60000/60000 [==============================] - 17s 282us/step - loss: 0.0039 - acc: 0.9795\n",
      "Epoch 27/50\n",
      "60000/60000 [==============================] - 17s 286us/step - loss: 0.0036 - acc: 0.9809\n",
      "Epoch 28/50\n",
      "60000/60000 [==============================] - 17s 283us/step - loss: 0.0035 - acc: 0.9816\n",
      "Epoch 29/50\n",
      "60000/60000 [==============================] - 17s 283us/step - loss: 0.0033 - acc: 0.9821\n",
      "Epoch 30/50\n",
      "60000/60000 [==============================] - 17s 291us/step - loss: 0.0031 - acc: 0.9835\n",
      "Epoch 31/50\n",
      "60000/60000 [==============================] - 17s 284us/step - loss: 0.0030 - acc: 0.9845\n",
      "Epoch 32/50\n",
      "60000/60000 [==============================] - 17s 284us/step - loss: 0.0028 - acc: 0.9854\n",
      "Epoch 33/50\n",
      "60000/60000 [==============================] - 17s 285us/step - loss: 0.0027 - acc: 0.9862\n",
      "Epoch 34/50\n",
      "60000/60000 [==============================] - 17s 289us/step - loss: 0.0026 - acc: 0.9870\n",
      "Epoch 35/50\n",
      "60000/60000 [==============================] - 17s 286us/step - loss: 0.0025 - acc: 0.9874\n",
      "Epoch 36/50\n",
      "60000/60000 [==============================] - 17s 287us/step - loss: 0.0023 - acc: 0.9878\n",
      "Epoch 37/50\n",
      "60000/60000 [==============================] - 17s 288us/step - loss: 0.0022 - acc: 0.9884\n",
      "Epoch 38/50\n",
      "60000/60000 [==============================] - 17s 286us/step - loss: 0.0021 - acc: 0.98901s - loss:\n",
      "Epoch 39/50\n",
      "60000/60000 [==============================] - 23s 385us/step - loss: 0.0017 - acc: 0.99100s - loss: 0.0017 - acc:\n",
      "Epoch 45/50\n",
      "60000/60000 [==============================] - 21s 356us/step - loss: 0.0016 - acc: 0.9913\n",
      "Epoch 46/50\n",
      "60000/60000 [==============================] - 22s 366us/step - loss: 0.0015 - acc: 0.9919\n",
      "Epoch 50/50\n",
      "60000/60000 [==============================] - 21s 358us/step - loss: 0.0014 - acc: 0.992110s - loss: 0.00 - ETA: 10s - loss: 0. - ETA: 9s - loss: 0.0014 - acc: 0. - ETA: 8s -\n",
      "60000/60000 [==============================] - 3s 53us/step\n",
      "Loss : 0.001404\n",
      "Correct :99.225000\n"
     ]
    }
   ],
   "source": [
    "NNm.fit(x_train0,y_train0, batch_size=60, epochs=50)"
   ]
  },
  {
   "cell_type": "code",
   "execution_count": 36,
   "metadata": {},
   "outputs": [
    {
     "name": "stdout",
     "output_type": "stream",
     "text": [
      "60000/60000 [==============================] - 2s 40us/step\n",
      "Loss : 0.001404\n",
      "Correct rate is :99.225000\n"
     ]
    }
   ],
   "source": [
    "score = NNm.evaluate(x_train0,y_train0,batch_size=10000)\n",
    "print(\"Loss : %f\" %score[0])\n",
    "print(\"Correct rate is :%f\" %(score[1]*100))"
   ]
  },
  {
   "cell_type": "markdown",
   "metadata": {},
   "source": [
    "## 2.use functional API建另一個\n",
    "中間原來的第二層跟第三層拆出來。\n",
    "<img src=\"0430/NN_fun.jpg\" alt=\"drawing\" />"
   ]
  },
  {
   "cell_type": "code",
   "execution_count": 38,
   "metadata": {},
   "outputs": [],
   "source": [
    "#打包\n",
    "from keras.models import Model\n",
    "from keras.layers import Input\n",
    "from keras.layers import concatenate, add #concatenate把兩個當量結合在一起"
   ]
  },
  {
   "cell_type": "code",
   "execution_count": 39,
   "metadata": {},
   "outputs": [],
   "source": [
    "x = Input(shape=(784,))"
   ]
  },
  {
   "cell_type": "code",
   "execution_count": 40,
   "metadata": {},
   "outputs": [],
   "source": [
    "#定義每一層神經元數量\n",
    "f1 = Dense(600,activation='sigmoid') #784->600\n",
    "f2 = Dense(375,activation='relu') #600->375\n",
    "f3 = Dense(375,activation='relu') #600->375\n",
    "f4 = Dense(200,activation='sigmoid') #375->200\n",
    "f5 = Dense(200,activation='sigmoid') #375->200\n",
    "f6 = Dense(100,activation='sigmoid') #375->100\n",
    "f7 = Dense(10,activation='softmax') #500->10"
   ]
  },
  {
   "cell_type": "markdown",
   "metadata": {},
   "source": [
    "接著，定義層前後變數之間的關係；首先，第一個變數必定以 Input 函數來定義"
   ]
  },
  {
   "cell_type": "code",
   "execution_count": 41,
   "metadata": {},
   "outputs": [],
   "source": [
    "h1 = f1(x)\n",
    "h2 = f2(h1)\n",
    "h3 = f3(h1)\n",
    "h4 = f4(h2)\n",
    "h5 = f5(h2)\n",
    "h6 = f6(h3)\n",
    "u = concatenate([h4,h5,h6])\n",
    "y = f7(u)"
   ]
  },
  {
   "cell_type": "code",
   "execution_count": 45,
   "metadata": {},
   "outputs": [
    {
     "name": "stdout",
     "output_type": "stream",
     "text": [
      "__________________________________________________________________________________________________\n",
      "Layer (type)                    Output Shape         Param #     Connected to                     \n",
      "==================================================================================================\n",
      "input_1 (InputLayer)            (None, 784)          0                                            \n",
      "__________________________________________________________________________________________________\n",
      "dense_9 (Dense)                 (None, 600)          471000      input_1[0][0]                    \n",
      "__________________________________________________________________________________________________\n",
      "dense_10 (Dense)                (None, 375)          225375      dense_9[0][0]                    \n",
      "__________________________________________________________________________________________________\n",
      "dense_11 (Dense)                (None, 375)          225375      dense_9[0][0]                    \n",
      "__________________________________________________________________________________________________\n",
      "dense_12 (Dense)                (None, 200)          75200       dense_10[0][0]                   \n",
      "__________________________________________________________________________________________________\n",
      "dense_13 (Dense)                (None, 200)          75200       dense_10[0][0]                   \n",
      "__________________________________________________________________________________________________\n",
      "dense_14 (Dense)                (None, 100)          37600       dense_11[0][0]                   \n",
      "__________________________________________________________________________________________________\n",
      "concatenate_1 (Concatenate)     (None, 500)          0           dense_12[0][0]                   \n",
      "                                                                 dense_13[0][0]                   \n",
      "                                                                 dense_14[0][0]                   \n",
      "__________________________________________________________________________________________________\n",
      "dense_15 (Dense)                (None, 10)           5010        concatenate_1[0][0]              \n",
      "==================================================================================================\n",
      "Total params: 1,114,760\n",
      "Trainable params: 1,114,760\n",
      "Non-trainable params: 0\n",
      "__________________________________________________________________________________________________\n"
     ]
    }
   ],
   "source": [
    "NNmodel = Model(x,y)\n",
    "NNmodel.compile(loss='mse', optimizer=SGD(lr=0.087), metrics=['accuracy'])\n",
    "NNmodel.summary()"
   ]
  },
  {
   "cell_type": "code",
   "execution_count": 46,
   "metadata": {},
   "outputs": [
    {
     "name": "stdout",
     "output_type": "stream",
     "text": [
      "Epoch 1/50\n",
      "60000/60000 [==============================] - 15s 256us/step - loss: 0.0780 - acc: 0.4195\n",
      "Epoch 2/50\n",
      "60000/60000 [==============================] - 14s 240us/step - loss: 0.0445 - acc: 0.7528\n",
      "Epoch 3/50\n",
      "60000/60000 [==============================] - 14s 237us/step - loss: 0.0252 - acc: 0.8724\n",
      "Epoch 4/50\n",
      "60000/60000 [==============================] - 15s 251us/step - loss: 0.0181 - acc: 0.8986\n",
      "Epoch 5/50\n",
      "60000/60000 [==============================] - 14s 241us/step - loss: 0.0150 - acc: 0.9131\n",
      "Epoch 6/50\n",
      "60000/60000 [==============================] - 15s 248us/step - loss: 0.0131 - acc: 0.9213\n",
      "Epoch 7/50\n",
      "60000/60000 [==============================] - 14s 239us/step - loss: 0.0117 - acc: 0.9286\n",
      "Epoch 8/50\n",
      "60000/60000 [==============================] - 15s 246us/step - loss: 0.0108 - acc: 0.9340\n",
      "Epoch 9/50\n",
      "60000/60000 [==============================] - 15s 250us/step - loss: 0.0100 - acc: 0.9395\n",
      "Epoch 10/50\n",
      "60000/60000 [==============================] - 15s 248us/step - loss: 0.0093 - acc: 0.9446\n",
      "Epoch 11/50\n",
      "60000/60000 [==============================] - 16s 264us/step - loss: 0.0087 - acc: 0.9483\n",
      "Epoch 12/50\n",
      "60000/60000 [==============================] - 14s 227us/step - loss: 0.0081 - acc: 0.9521\n",
      "Epoch 13/50\n",
      "60000/60000 [==============================] - 14s 228us/step - loss: 0.0077 - acc: 0.9548\n",
      "Epoch 14/50\n",
      "60000/60000 [==============================] - 14s 227us/step - loss: 0.0072 - acc: 0.9582\n",
      "Epoch 15/50\n",
      "60000/60000 [==============================] - 13s 216us/step - loss: 0.0068 - acc: 0.9605\n",
      "Epoch 16/50\n",
      "60000/60000 [==============================] - 14s 226us/step - loss: 0.0065 - acc: 0.9625\n",
      "Epoch 17/50\n",
      "60000/60000 [==============================] - 14s 232us/step - loss: 0.0061 - acc: 0.96530s - loss: 0.0\n",
      "Epoch 18/50\n",
      "60000/60000 [==============================] - 14s 228us/step - loss: 0.0058 - acc: 0.9673\n",
      "Epoch 19/50\n",
      "60000/60000 [==============================] - 13s 222us/step - loss: 0.0055 - acc: 0.9691\n",
      "Epoch 20/50\n",
      "60000/60000 [==============================] - 13s 222us/step - loss: 0.0053 - acc: 0.9707\n",
      "Epoch 21/50\n",
      "60000/60000 [==============================] - 14s 229us/step - loss: 0.0050 - acc: 0.9718\n",
      "Epoch 22/50\n",
      "60000/60000 [==============================] - 14s 226us/step - loss: 0.0047 - acc: 0.9742\n",
      "Epoch 23/50\n",
      "60000/60000 [==============================] - 15s 246us/step - loss: 0.0045 - acc: 0.9754\n",
      "Epoch 24/50\n",
      "60000/60000 [==============================] - 14s 227us/step - loss: 0.0043 - acc: 0.9764\n",
      "Epoch 25/50\n",
      "60000/60000 [==============================] - 14s 225us/step - loss: 0.0029 - acc: 0.9848\n",
      "Epoch 33/50\n",
      "60000/60000 [==============================] - 14s 235us/step - loss: 0.0028 - acc: 0.9856\n",
      "Epoch 34/50\n",
      "60000/60000 [==============================] - 15s 256us/step - loss: 0.0027 - acc: 0.9860\n",
      "Epoch 35/50\n",
      "60000/60000 [==============================] - 15s 253us/step - loss: 0.0025 - acc: 0.9868\n",
      "Epoch 36/50\n",
      "60000/60000 [==============================] - 15s 246us/step - loss: 0.0024 - acc: 0.9874\n",
      "Epoch 37/50\n",
      "60000/60000 [==============================] - 15s 251us/step - loss: 0.0023 - acc: 0.9876\n",
      "Epoch 38/50\n",
      "60000/60000 [==============================] - 15s 256us/step - loss: 0.0022 - acc: 0.9884\n",
      "Epoch 39/50\n",
      "60000/60000 [==============================] - 16s 272us/step - loss: 0.0021 - acc: 0.9888\n",
      "Epoch 40/50\n",
      "60000/60000 [==============================] - 16s 273us/step - loss: 0.0021 - acc: 0.9891\n",
      "Epoch 41/50\n",
      "60000/60000 [==============================] - 15s 248us/step - loss: 0.0020 - acc: 0.9895\n",
      "Epoch 42/50\n",
      "60000/60000 [==============================] - 19s 315us/step - loss: 0.0019 - acc: 0.9899\n",
      "Epoch 43/50\n",
      "60000/60000 [==============================] - 15s 254us/step - loss: 0.0019 - acc: 0.9902\n",
      "Epoch 44/50\n",
      "60000/60000 [==============================] - 14s 233us/step - loss: 0.0018 - acc: 0.9905\n",
      "Epoch 45/50\n",
      "60000/60000 [==============================] - 15s 252us/step - loss: 0.0017 - acc: 0.9909\n",
      "Epoch 46/50\n",
      "60000/60000 [==============================] - 14s 238us/step - loss: 0.0017 - acc: 0.9910\n",
      "Epoch 47/50\n",
      "60000/60000 [==============================] - 20s 339us/step - loss: 0.0016 - acc: 0.9911\n",
      "Epoch 48/50\n",
      "60000/60000 [==============================] - 16s 270us/step - loss: 0.0016 - acc: 0.99153s - l - ETA: \n",
      "Epoch 49/50\n",
      "60000/60000 [==============================] - 16s 261us/step - loss: 0.0015 - acc: 0.9916\n",
      "Epoch 50/50\n",
      "60000/60000 [==============================] - 17s 283us/step - loss: 0.0015 - acc: 0.9917\n"
     ]
    },
    {
     "data": {
      "text/plain": [
       "<keras.callbacks.History at 0x1c1c8783f98>"
      ]
     },
     "execution_count": 46,
     "metadata": {},
     "output_type": "execute_result"
    }
   ],
   "source": [
    "NNmodel.fit(x_train0,y_train0, batch_size=60, epochs=50)"
   ]
  },
  {
   "cell_type": "code",
   "execution_count": 47,
   "metadata": {},
   "outputs": [
    {
     "name": "stdout",
     "output_type": "stream",
     "text": [
      "60000/60000 [==============================] - 2s 37us/step\n",
      "Loss : 0.001477\n",
      "Correct rate is :99.196666\n"
     ]
    }
   ],
   "source": [
    "score2 = NNmodel.evaluate(x_train0,y_train0,batch_size=10000)\n",
    "print(\"Loss : %f\" %score2[0])\n",
    "print(\"Correct rate is :%f\" %(score2[1]*100))"
   ]
  },
  {
   "cell_type": "code",
   "execution_count": null,
   "metadata": {},
   "outputs": [],
   "source": []
  }
 ],
 "metadata": {
  "kernelspec": {
   "display_name": "Python 3",
   "language": "python",
   "name": "python3"
  },
  "language_info": {
   "codemirror_mode": {
    "name": "ipython",
    "version": 3
   },
   "file_extension": ".py",
   "mimetype": "text/x-python",
   "name": "python",
   "nbconvert_exporter": "python",
   "pygments_lexer": "ipython3",
   "version": "3.6.8"
  }
 },
 "nbformat": 4,
 "nbformat_minor": 2
}
