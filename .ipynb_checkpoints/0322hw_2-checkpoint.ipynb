{
 "cells": [
  {
   "cell_type": "code",
   "execution_count": 2,
   "metadata": {},
   "outputs": [],
   "source": [
    "import numpy as np\n",
    "import matplotlib as plt\n",
    "import pandas as pd\n",
    "import geopandas as gpd"
   ]
  },
  {
   "cell_type": "code",
   "execution_count": null,
   "metadata": {},
   "outputs": [],
   "source": [
    "sheet_name_a = [10412,10512,10612,10712]\n",
    "TPV104 = pd.read_excel('TP_vill_use2.xlsx' ,sheet_name=str(sheet_name_a[0]))\n",
    "TPV105 = pd.read_excel('TP_vill_use2.xlsx' ,sheet_name=str(sheet_name_a[1]))"
   ]
  },
  {
   "cell_type": "code",
   "execution_count": null,
   "metadata": {},
   "outputs": [],
   "source": [
    "Twd_v = gpd.read_file('SHP/基礎行政界_2015.shp', encoding='utf-8')\n",
    "Twd_v.columns = ['VName','ID_2015','郵遞區','geometry']"
   ]
  },
  {
   "cell_type": "code",
   "execution_count": null,
   "metadata": {},
   "outputs": [],
   "source": [
    "#表格欄位整理\n",
    "TPV104 = TPV104.drop(\"當月：104年12月，當年累計：104年1~12月\", axis=1)\n",
    "TPV104 = TPV104.drop(\"Unnamed: 7\", axis=1)\n",
    "TPV105 = TPV105.drop(TPV105.columns[7], axis=1)\n",
    "TPV104.columns = ['郵遞區', '行政區', '用電類', '用戶數', '契約量', '售電度', '年售電']\n",
    "TPV105.columns = ['郵遞區', '行政區', '用電類', '用戶數', '契約量', '售電度', '年售電']\n"
   ]
  },
  {
   "cell_type": "code",
   "execution_count": null,
   "metadata": {},
   "outputs": [],
   "source": [
    "df = pd.DataFrame(TPV104[(TPV104['用電類']==TPV104['用電類'][0])])\n",
    "df2 = pd.DataFrame(TPV105[(TPV105['用電類']==TPV105['用電類'][0])])\n",
    "df['郵遞區']=df['郵遞區'].astype('int64')\n",
    "df2['郵遞區']=df2['郵遞區'].astype('int64')\n",
    "TW_104 = pd.merge(Twd_v,df,on='郵遞區')\n",
    "TW_105 = pd.merge(Twd_v,df2,on='郵遞區')\n",
    "TW_10405 = pd.merge(TW_104,df2,on='郵遞區')"
   ]
  },
  {
   "cell_type": "markdown",
   "metadata": {},
   "source": [
    "繪製空間地圖"
   ]
  },
  {
   "cell_type": "code",
   "execution_count": null,
   "metadata": {},
   "outputs": [],
   "source": [
    "TW_104['年售電'] = TW_104['年售電'].astype('float')\n",
    "TW_104.plot(column='年售電', figsize=(12, 12), legend=True)"
   ]
  },
  {
   "cell_type": "code",
   "execution_count": null,
   "metadata": {},
   "outputs": [],
   "source": [
    "TW_105['年售電'] = TW_105['年售電'].astype('float')\n",
    "TW_105.plot(column='年售電', figsize=(12, 12), legend=True)"
   ]
  },
  {
   "cell_type": "code",
   "execution_count": null,
   "metadata": {},
   "outputs": [],
   "source": [
    "TW_10405['glow']=(TW_10405['年售電_x']-TW_10405['年售電_y'])/TW_10405['年售電_x']\n",
    "TW_10405"
   ]
  },
  {
   "cell_type": "code",
   "execution_count": null,
   "metadata": {},
   "outputs": [],
   "source": [
    "TW_10405['indexx'] = (TW_10405['glow']>np.mean(TW_10405['glow']))\n",
    "a = list()\n",
    "for i in range(0,(len(TW_10405['indexx'])-1)) :\n",
    "    if TW_10405['indexx'][i]==True:\n",
    "        a.append(1)\n",
    "    else:\n",
    "        a.append(0)"
   ]
  },
  {
   "cell_type": "code",
   "execution_count": null,
   "metadata": {},
   "outputs": [],
   "source": [
    "a = pd.DataFrame(a)\n",
    "TW_10405_2 = pd.concat([TW_10405,a],axis=1)\n",
    "TW_10405_2.columns = ['VName',  'ID_2015',      '郵遞區', 'geometry',    '行政區_x',    '用電類_x',\n",
    "          '用戶數_x',    '契約量_x',    '售電度_x',    '年售電_x',    '行政區_y',    '用電類_y',\n",
    "          '用戶數_y',    '契約量_y',    '售電度_y',    '年售電_y',     'glow',   'indexx','a']\n",
    "TW_10405_2['a'] = TW_10405_2['a'].astype('str')\n",
    "TW_10405_2.head()"
   ]
  },
  {
   "cell_type": "code",
   "execution_count": null,
   "metadata": {},
   "outputs": [],
   "source": [
    "TW_10405_2.plot(column='a', figsize=(12, 12), legend=True)\n",
    "#0代表該鄉鎮105年度用電成長率低於全國平均，1代表高於全國平均成長率。"
   ]
  },
  {
   "cell_type": "code",
   "execution_count": null,
   "metadata": {},
   "outputs": [],
   "source": []
  }
 ],
 "metadata": {
  "kernelspec": {
   "display_name": "Python 3",
   "language": "python",
   "name": "python3"
  },
  "language_info": {
   "codemirror_mode": {
    "name": "ipython",
    "version": 3
   },
   "file_extension": ".py",
   "mimetype": "text/x-python",
   "name": "python",
   "nbconvert_exporter": "python",
   "pygments_lexer": "ipython3",
   "version": "3.6.8"
  }
 },
 "nbformat": 4,
 "nbformat_minor": 2
}
