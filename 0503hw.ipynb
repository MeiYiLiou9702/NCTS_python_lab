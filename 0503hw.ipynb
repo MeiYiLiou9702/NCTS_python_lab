{
 "cells": [
  {
   "cell_type": "code",
   "execution_count": 1,
   "metadata": {},
   "outputs": [
    {
     "name": "stdout",
     "output_type": "stream",
     "text": [
      "env: KERAS_BACKED=tensorflow\n"
     ]
    }
   ],
   "source": [
    "%env KERAS_BACKED=tensorflow"
   ]
  },
  {
   "cell_type": "code",
   "execution_count": 2,
   "metadata": {},
   "outputs": [],
   "source": [
    "%matplotlib inline\n",
    "\n",
    "import numpy as np\n",
    "import matplotlib.pyplot as plt"
   ]
  },
  {
   "cell_type": "markdown",
   "metadata": {},
   "source": [
    "# 讀入MNIST Database"
   ]
  },
  {
   "cell_type": "code",
   "execution_count": 3,
   "metadata": {},
   "outputs": [
    {
     "name": "stderr",
     "output_type": "stream",
     "text": [
      "D:\\ProgramData\\Anaconda\\envs\\snake\\lib\\site-packages\\h5py\\__init__.py:36: FutureWarning: Conversion of the second argument of issubdtype from `float` to `np.floating` is deprecated. In future, it will be treated as `np.float64 == np.dtype(float).type`.\n",
      "  from ._conv import register_converters as _register_converters\n",
      "Using TensorFlow backend.\n"
     ]
    }
   ],
   "source": [
    "from keras.datasets import mnist"
   ]
  },
  {
   "cell_type": "code",
   "execution_count": 4,
   "metadata": {},
   "outputs": [],
   "source": [
    "(x_train,y_train),(x_test,y_test) = mnist.load_data()"
   ]
  },
  {
   "cell_type": "code",
   "execution_count": 5,
   "metadata": {},
   "outputs": [
    {
     "data": {
      "text/plain": [
       "(28, 28)"
      ]
     },
     "execution_count": 5,
     "metadata": {},
     "output_type": "execute_result"
    }
   ],
   "source": [
    "x_train[1234].shape"
   ]
  },
  {
   "cell_type": "code",
   "execution_count": 6,
   "metadata": {},
   "outputs": [],
   "source": [
    "#CNN 要的是 (28,28,1)"
   ]
  },
  {
   "cell_type": "code",
   "execution_count": 7,
   "metadata": {},
   "outputs": [],
   "source": [
    "x_train = x_train.reshape(60000,28,28,1)\n",
    "x_test = x_test.reshape(10000,28,28,1)"
   ]
  },
  {
   "cell_type": "code",
   "execution_count": 8,
   "metadata": {},
   "outputs": [
    {
     "data": {
      "text/plain": [
       "(28, 28, 1)"
      ]
     },
     "execution_count": 8,
     "metadata": {},
     "output_type": "execute_result"
    }
   ],
   "source": [
    "x_train[1234].shape"
   ]
  },
  {
   "cell_type": "code",
   "execution_count": 9,
   "metadata": {},
   "outputs": [
    {
     "data": {
      "text/plain": [
       "<matplotlib.image.AxesImage at 0x2594eb3f940>"
      ]
     },
     "execution_count": 9,
     "metadata": {},
     "output_type": "execute_result"
    },
    {
     "data": {
      "image/png": "[encoded data removed]",
      "text/plain": [
       "<Figure size 432x288 with 1 Axes>"
      ]
     },
     "metadata": {
      "needs_background": "light"
     },
     "output_type": "display_data"
    }
   ],
   "source": [
    "X = x_train[1234]\n",
    "X = X.reshape(28,28)\n",
    "plt.imshow(X,cmap='Greys')"
   ]
  },
  {
   "cell_type": "code",
   "execution_count": 10,
   "metadata": {},
   "outputs": [],
   "source": [
    "from keras.utils import np_utils"
   ]
  },
  {
   "cell_type": "code",
   "execution_count": 11,
   "metadata": {},
   "outputs": [],
   "source": [
    "y_train = np_utils.to_categorical(y_train,10)\n",
    "y_test = np_utils.to_categorical(y_test,10)"
   ]
  },
  {
   "cell_type": "code",
   "execution_count": 12,
   "metadata": {},
   "outputs": [],
   "source": [
    "#資料常規化(壓到0～1之間) #在CNN裡面比較不會飄\n",
    "x_train = x_train/255\n",
    "x_test = x_test/255"
   ]
  },
  {
   "cell_type": "markdown",
   "metadata": {},
   "source": [
    "# 開始建神經網絡 (上課示範版)"
   ]
  },
  {
   "cell_type": "code",
   "execution_count": 13,
   "metadata": {},
   "outputs": [],
   "source": [
    "from keras.models import Sequential\n",
    "from keras.layers import Dense,Activation,Flatten\n",
    "from keras.layers import Conv2D,MaxPool2D\n",
    "from keras.optimizers import SGD"
   ]
  },
  {
   "cell_type": "code",
   "execution_count": 14,
   "metadata": {},
   "outputs": [
    {
     "name": "stdout",
     "output_type": "stream",
     "text": [
      "WARNING:tensorflow:From D:\\ProgramData\\Anaconda\\envs\\snake\\lib\\site-packages\\tensorflow\\python\\framework\\op_def_library.py:263: colocate_with (from tensorflow.python.framework.ops) is deprecated and will be removed in a future version.\n",
      "Instructions for updating:\n",
      "Colocations handled automatically by placer.\n"
     ]
    }
   ],
   "source": [
    "model = Sequential()\n",
    "model.add(Conv2D(4,(5,5),padding='same',input_shape=(28,28,1) ))\n",
    "#決定有幾個filter跟filter size、padding\n",
    "model.add(Activation('relu'))"
   ]
  },
  {
   "cell_type": "markdown",
   "metadata": {},
   "source": [
    "Max-pooling"
   ]
  },
  {
   "cell_type": "code",
   "execution_count": 15,
   "metadata": {},
   "outputs": [],
   "source": [
    "model.add(MaxPool2D(pool_size=(2,2)))"
   ]
  },
  {
   "cell_type": "markdown",
   "metadata": {},
   "source": [
    "第二次convolution!& Max-pooling"
   ]
  },
  {
   "cell_type": "code",
   "execution_count": 16,
   "metadata": {},
   "outputs": [],
   "source": [
    "model.add(Conv2D(8,(5,5),padding='same'))\n",
    "model.add(Activation('relu'))"
   ]
  },
  {
   "cell_type": "code",
   "execution_count": 17,
   "metadata": {},
   "outputs": [],
   "source": [
    "model.add(MaxPool2D(pool_size=(2,2)))"
   ]
  },
  {
   "cell_type": "markdown",
   "metadata": {},
   "source": [
    "第三次"
   ]
  },
  {
   "cell_type": "code",
   "execution_count": 18,
   "metadata": {},
   "outputs": [],
   "source": [
    "model.add(Conv2D(16,(5,5),padding='same'))\n",
    "model.add(Activation('relu'))\n",
    "model.add(MaxPool2D(pool_size=(2,2)))"
   ]
  },
  {
   "cell_type": "markdown",
   "metadata": {},
   "source": [
    "要送進一般的神經網絡"
   ]
  },
  {
   "cell_type": "code",
   "execution_count": 19,
   "metadata": {},
   "outputs": [],
   "source": [
    "#拉平\n",
    "model.add(Flatten())\n",
    "model.add(Dense(9))\n",
    "model.add(Activation('relu'))"
   ]
  },
  {
   "cell_type": "code",
   "execution_count": 20,
   "metadata": {},
   "outputs": [],
   "source": [
    "model.add(Dense(10))\n",
    "model.add(Activation('softmax'))"
   ]
  },
  {
   "cell_type": "markdown",
   "metadata": {},
   "source": [
    "# 組裝"
   ]
  },
  {
   "cell_type": "code",
   "execution_count": 21,
   "metadata": {},
   "outputs": [],
   "source": [
    "model.compile(loss='mse',optimizer=SGD(lr=0.07),metrics=['accuracy'])"
   ]
  },
  {
   "cell_type": "markdown",
   "metadata": {},
   "source": [
    "# View"
   ]
  },
  {
   "cell_type": "code",
   "execution_count": 22,
   "metadata": {},
   "outputs": [
    {
     "name": "stdout",
     "output_type": "stream",
     "text": [
      "_________________________________________________________________\n",
      "Layer (type)                 Output Shape              Param #   \n",
      "=================================================================\n",
      "conv2d_1 (Conv2D)            (None, 28, 28, 4)         104       \n",
      "_________________________________________________________________\n",
      "activation_1 (Activation)    (None, 28, 28, 4)         0         \n",
      "_________________________________________________________________\n",
      "max_pooling2d_1 (MaxPooling2 (None, 14, 14, 4)         0         \n",
      "_________________________________________________________________\n",
      "conv2d_2 (Conv2D)            (None, 14, 14, 8)         808       \n",
      "_________________________________________________________________\n",
      "activation_2 (Activation)    (None, 14, 14, 8)         0         \n",
      "_________________________________________________________________\n",
      "max_pooling2d_2 (MaxPooling2 (None, 7, 7, 8)           0         \n",
      "_________________________________________________________________\n",
      "conv2d_3 (Conv2D)            (None, 7, 7, 16)          3216      \n",
      "_________________________________________________________________\n",
      "activation_3 (Activation)    (None, 7, 7, 16)          0         \n",
      "_________________________________________________________________\n",
      "max_pooling2d_3 (MaxPooling2 (None, 3, 3, 16)          0         \n",
      "_________________________________________________________________\n",
      "flatten_1 (Flatten)          (None, 144)               0         \n",
      "_________________________________________________________________\n",
      "dense_1 (Dense)              (None, 9)                 1305      \n",
      "_________________________________________________________________\n",
      "activation_4 (Activation)    (None, 9)                 0         \n",
      "_________________________________________________________________\n",
      "dense_2 (Dense)              (None, 10)                100       \n",
      "_________________________________________________________________\n",
      "activation_5 (Activation)    (None, 10)                0         \n",
      "=================================================================\n",
      "Total params: 5,533\n",
      "Trainable params: 5,533\n",
      "Non-trainable params: 0\n",
      "_________________________________________________________________\n"
     ]
    }
   ],
   "source": [
    "model.summary()"
   ]
  },
  {
   "cell_type": "markdown",
   "metadata": {},
   "source": [
    "# Train"
   ]
  },
  {
   "cell_type": "code",
   "execution_count": 23,
   "metadata": {
    "scrolled": true
   },
   "outputs": [
    {
     "name": "stdout",
     "output_type": "stream",
     "text": [
      "WARNING:tensorflow:From D:\\ProgramData\\Anaconda\\envs\\snake\\lib\\site-packages\\tensorflow\\python\\ops\\math_ops.py:3066: to_int32 (from tensorflow.python.ops.math_ops) is deprecated and will be removed in a future version.\n",
      "Instructions for updating:\n",
      "Use tf.cast instead.\n",
      "Epoch 1/10\n",
      "60000/60000 [==============================] - 41s 686us/step - loss: 0.0896 - acc: 0.20760s - loss: 0.0896 -\n",
      "Epoch 2/10\n",
      "60000/60000 [==============================] - 40s 666us/step - loss: 0.0882 - acc: 0.31481s - l\n",
      "Epoch 3/10\n",
      "60000/60000 [==============================] - 40s 669us/step - loss: 0.0800 - acc: 0.4094\n",
      "Epoch 4/10\n",
      "60000/60000 [==============================] - 41s 677us/step - loss: 0.0511 - acc: 0.6353\n",
      "Epoch 5/10\n",
      "60000/60000 [==============================] - 41s 691us/step - loss: 0.0383 - acc: 0.7308\n",
      "Epoch 6/10\n",
      "60000/60000 [==============================] - 41s 689us/step - loss: 0.0353 - acc: 0.7483\n",
      "Epoch 7/10\n",
      "60000/60000 [==============================] - 42s 697us/step - loss: 0.0312 - acc: 0.7771\n",
      "Epoch 8/10\n",
      "60000/60000 [==============================] - 42s 693us/step - loss: 0.0245 - acc: 0.8304\n",
      "Epoch 9/10\n",
      "60000/60000 [==============================] - 42s 697us/step - loss: 0.0225 - acc: 0.8422\n",
      "Epoch 10/10\n",
      "60000/60000 [==============================] - 41s 680us/step - loss: 0.0213 - acc: 0.8485\n"
     ]
    },
    {
     "data": {
      "text/plain": [
       "<keras.callbacks.History at 0x2594eb8bf28>"
      ]
     },
     "execution_count": 23,
     "metadata": {},
     "output_type": "execute_result"
    }
   ],
   "source": [
    "model.fit(x_train,y_train,batch_size=100, epochs=10)"
   ]
  },
  {
   "cell_type": "code",
   "execution_count": 24,
   "metadata": {},
   "outputs": [
    {
     "name": "stdout",
     "output_type": "stream",
     "text": [
      "60000/60000 [==============================] - 15s 246us/step\n",
      "Loss : 0.020749\n",
      "Accuracy is :85.283333\n"
     ]
    }
   ],
   "source": [
    "score = model.evaluate(x_train,y_train,batch_size=100)\n",
    "print(\"Loss : %f\" %score[0])\n",
    "print(\"Accuracy is :%f\" %(score[1]*100))"
   ]
  },
  {
   "cell_type": "markdown",
   "metadata": {},
   "source": [
    "試著把訓練的batch_size改大一點"
   ]
  },
  {
   "cell_type": "code",
   "execution_count": 25,
   "metadata": {},
   "outputs": [
    {
     "name": "stdout",
     "output_type": "stream",
     "text": [
      "Epoch 1/10\n",
      "60000/60000 [==============================] - 26s 436us/step - loss: 0.0203 - acc: 0.8549\n",
      "Epoch 2/10\n",
      "60000/60000 [==============================] - 23s 389us/step - loss: 0.0202 - acc: 0.8553\n",
      "Epoch 3/10\n",
      "60000/60000 [==============================] - 24s 394us/step - loss: 0.0202 - acc: 0.8555\n",
      "Epoch 4/10\n",
      "60000/60000 [==============================] - 23s 386us/step - loss: 0.0202 - acc: 0.8554\n",
      "Epoch 5/10\n",
      "60000/60000 [==============================] - 19s 322us/step - loss: 0.0202 - acc: 0.8554\n",
      "Epoch 6/10\n",
      "60000/60000 [==============================] - 20s 331us/step - loss: 0.0202 - acc: 0.8555\n",
      "Epoch 7/10\n",
      "60000/60000 [==============================] - 20s 331us/step - loss: 0.0202 - acc: 0.8555\n",
      "Epoch 8/10\n",
      "60000/60000 [==============================] - 19s 320us/step - loss: 0.0201 - acc: 0.8557\n",
      "Epoch 9/10\n",
      "60000/60000 [==============================] - 19s 320us/step - loss: 0.0201 - acc: 0.8556\n",
      "Epoch 10/10\n",
      "60000/60000 [==============================] - 20s 335us/step - loss: 0.0201 - acc: 0.8557\n"
     ]
    },
    {
     "data": {
      "text/plain": [
       "<keras.callbacks.History at 0x2594e4e8b00>"
      ]
     },
     "execution_count": 25,
     "metadata": {},
     "output_type": "execute_result"
    }
   ],
   "source": [
    "model.fit(x_train,y_train,batch_size=10000, epochs=10)"
   ]
  },
  {
   "cell_type": "code",
   "execution_count": 26,
   "metadata": {},
   "outputs": [
    {
     "name": "stdout",
     "output_type": "stream",
     "text": [
      "60000/60000 [==============================] - 15s 247us/step\n",
      "Loss : 0.020118\n",
      "Accuracy is :85.575000\n"
     ]
    }
   ],
   "source": [
    "score = model.evaluate(x_train,y_train,batch_size=100)\n",
    "print(\"Loss : %f\" %score[0])\n",
    "print(\"Accuracy is :%f\" %(score[1]*100))"
   ]
  },
  {
   "cell_type": "markdown",
   "metadata": {},
   "source": [
    "# 小結\n",
    "在不改變原來模型的設計的情況下，修改batch_size差異只會體現在model的訓練時間。\n",
    "準確率的改善，純粹是因為那個model在這個專案環境下跑了兩次訓練，所以分數不一樣。"
   ]
  },
  {
   "cell_type": "markdown",
   "metadata": {},
   "source": [
    "# 試著用Functional API的想法搭一個中間 Conv多一點的神經網絡"
   ]
  },
  {
   "cell_type": "code",
   "execution_count": 27,
   "metadata": {},
   "outputs": [],
   "source": [
    "#打包\n",
    "from keras.models import Model\n",
    "from keras.layers import Input\n",
    "from keras.layers import concatenate, add #concatenate把兩個當量結合在一起"
   ]
  },
  {
   "cell_type": "code",
   "execution_count": 28,
   "metadata": {},
   "outputs": [],
   "source": [
    "#第一個變數必定以 Input 函數來定義\n",
    "x = Input(shape=(28,28,1))"
   ]
  },
  {
   "cell_type": "code",
   "execution_count": 29,
   "metadata": {},
   "outputs": [],
   "source": [
    "#定義每一層神經元數量\n",
    "f1 = Conv2D(4,(5,5),padding='same',activation='relu' ) #4\n",
    "f2 = MaxPool2D(pool_size=(2,2)) #pooling\n",
    "f3 = Conv2D(8,(5,5),padding='same',activation='relu' )  #8\n",
    "f4 = MaxPool2D(pool_size=(2,2)) #pooling\n",
    "f5 = Conv2D(16,(5,5),padding='same',activation='relu' ) #16\n",
    "f6 = MaxPool2D(pool_size=(2,2)) #pooling\n",
    "f7 = Conv2D(32,(5,5),padding='same',activation='relu' ) #32\n",
    "f8 = MaxPool2D(pool_size=(2,2)) #pooling\n",
    "f9 = Flatten() #拉平\n",
    "f10 = Dense(9,activation='relu')\n",
    "f11 = Dense(10,activation='softmax') #9->10"
   ]
  },
  {
   "cell_type": "markdown",
   "metadata": {},
   "source": [
    "接著，定義層前後變數之間的關係"
   ]
  },
  {
   "cell_type": "code",
   "execution_count": 30,
   "metadata": {},
   "outputs": [],
   "source": [
    "h1 = f1(x)\n",
    "h2 = f2(h1)\n",
    "h3 = f3(h2)\n",
    "h4 = f4(h3)\n",
    "h5 = f5(h4)\n",
    "h6 = f6(h5)\n",
    "h7 = f7(h6)\n",
    "h8 = f8(h7)\n",
    "h9 = f9(h8)\n",
    "h10 = f10(h9)\n",
    "y = f11(h10)"
   ]
  },
  {
   "cell_type": "code",
   "execution_count": 31,
   "metadata": {
    "scrolled": true
   },
   "outputs": [
    {
     "name": "stdout",
     "output_type": "stream",
     "text": [
      "_________________________________________________________________\n",
      "Layer (type)                 Output Shape              Param #   \n",
      "=================================================================\n",
      "input_1 (InputLayer)         (None, 28, 28, 1)         0         \n",
      "_________________________________________________________________\n",
      "conv2d_4 (Conv2D)            (None, 28, 28, 4)         104       \n",
      "_________________________________________________________________\n",
      "max_pooling2d_4 (MaxPooling2 (None, 14, 14, 4)         0         \n",
      "_________________________________________________________________\n",
      "conv2d_5 (Conv2D)            (None, 14, 14, 8)         808       \n",
      "_________________________________________________________________\n",
      "max_pooling2d_5 (MaxPooling2 (None, 7, 7, 8)           0         \n",
      "_________________________________________________________________\n",
      "conv2d_6 (Conv2D)            (None, 7, 7, 16)          3216      \n",
      "_________________________________________________________________\n",
      "max_pooling2d_6 (MaxPooling2 (None, 3, 3, 16)          0         \n",
      "_________________________________________________________________\n",
      "conv2d_7 (Conv2D)            (None, 3, 3, 32)          12832     \n",
      "_________________________________________________________________\n",
      "max_pooling2d_7 (MaxPooling2 (None, 1, 1, 32)          0         \n",
      "_________________________________________________________________\n",
      "flatten_2 (Flatten)          (None, 32)                0         \n",
      "_________________________________________________________________\n",
      "dense_3 (Dense)              (None, 9)                 297       \n",
      "_________________________________________________________________\n",
      "dense_4 (Dense)              (None, 10)                100       \n",
      "=================================================================\n",
      "Total params: 17,357\n",
      "Trainable params: 17,357\n",
      "Non-trainable params: 0\n",
      "_________________________________________________________________\n"
     ]
    }
   ],
   "source": [
    "CNNmodel = Model(x,y)\n",
    "CNNmodel.compile(loss='mse', optimizer=SGD(lr=0.007), metrics=['accuracy'])\n",
    "CNNmodel.summary()"
   ]
  },
  {
   "cell_type": "code",
   "execution_count": 32,
   "metadata": {},
   "outputs": [
    {
     "name": "stdout",
     "output_type": "stream",
     "text": [
      "Epoch 1/10\n",
      "60000/60000 [==============================] - 44s 739us/step - loss: 0.0900 - acc: 0.1582\n",
      "Epoch 2/10\n",
      "60000/60000 [==============================] - 43s 717us/step - loss: 0.0899 - acc: 0.1652\n",
      "Epoch 3/10\n",
      "60000/60000 [==============================] - 43s 708us/step - loss: 0.0899 - acc: 0.1664\n",
      "Epoch 4/10\n",
      "60000/60000 [==============================] - 43s 721us/step - loss: 0.0899 - acc: 0.1659\n",
      "Epoch 5/10\n",
      "60000/60000 [==============================] - 44s 735us/step - loss: 0.0899 - acc: 0.1653\n",
      "Epoch 6/10\n",
      "60000/60000 [==============================] - 44s 736us/step - loss: 0.0899 - acc: 0.1663\n",
      "Epoch 7/10\n",
      "60000/60000 [==============================] - 44s 726us/step - loss: 0.0899 - acc: 0.1677\n",
      "Epoch 8/10\n",
      "60000/60000 [==============================] - 44s 730us/step - loss: 0.0898 - acc: 0.1690\n",
      "Epoch 9/10\n",
      "60000/60000 [==============================] - 43s 720us/step - loss: 0.0898 - acc: 0.1715\n",
      "Epoch 10/10\n",
      "60000/60000 [==============================] - 44s 740us/step - loss: 0.0898 - acc: 0.1735\n"
     ]
    },
    {
     "data": {
      "text/plain": [
       "<keras.callbacks.History at 0x2594e510c88>"
      ]
     },
     "execution_count": 32,
     "metadata": {},
     "output_type": "execute_result"
    }
   ],
   "source": [
    "CNNmodel.fit(x_train,y_train,batch_size=100, epochs=10)"
   ]
  },
  {
   "cell_type": "code",
   "execution_count": 33,
   "metadata": {},
   "outputs": [
    {
     "name": "stdout",
     "output_type": "stream",
     "text": [
      "60000/60000 [==============================] - 10s 172us/step\n",
      "Loss : 0.089796\n",
      "Accuracy is :17.541667\n"
     ]
    }
   ],
   "source": [
    "score = CNNmodel.evaluate(x_train,y_train,batch_size=100)\n",
    "print(\"Loss : %f\" %score[0])\n",
    "print(\"Accuracy is :%f\" %(score[1]*100))"
   ]
  },
  {
   "cell_type": "markdown",
   "metadata": {},
   "source": [
    "# 小結2\n",
    "結果把模型從 Sequential 拆到 Functional API 之後，準確率反而發生慘劇"
   ]
  },
  {
   "cell_type": "markdown",
   "metadata": {},
   "source": [
    "# 那如果把Functional API的CNN的Filer數量增加呢？"
   ]
  },
  {
   "cell_type": "code",
   "execution_count": 34,
   "metadata": {},
   "outputs": [],
   "source": [
    "#定義每一層神經元數量\n",
    "f1 = Conv2D(32,(5,5),padding='same',activation='relu' ) #32\n",
    "f2 = MaxPool2D(pool_size=(2,2)) #pooling\n",
    "f3 = Conv2D(64,(5,5),padding='same',activation='relu' )  #64\n",
    "f4 = MaxPool2D(pool_size=(2,2)) #pooling\n",
    "f5 = Conv2D(128,(5,5),padding='same',activation='relu' ) #128\n",
    "f6 = MaxPool2D(pool_size=(2,2)) #pooling\n",
    "f7 = Flatten() #拉平\n",
    "f8 = Dense(100,activation='sigmoid')\n",
    "f9 = Dense(10,activation='softmax') #9->10"
   ]
  },
  {
   "cell_type": "code",
   "execution_count": 35,
   "metadata": {},
   "outputs": [],
   "source": [
    "h1 = f1(x)\n",
    "h2 = f2(h1)\n",
    "h3 = f3(h2)\n",
    "h4 = f4(h3)\n",
    "h5 = f5(h4)\n",
    "h6 = f6(h5)\n",
    "h7 = f7(h6)\n",
    "h8 = f8(h7)\n",
    "y = f9(h8)"
   ]
  },
  {
   "cell_type": "code",
   "execution_count": 36,
   "metadata": {},
   "outputs": [
    {
     "name": "stdout",
     "output_type": "stream",
     "text": [
      "_________________________________________________________________\n",
      "Layer (type)                 Output Shape              Param #   \n",
      "=================================================================\n",
      "input_1 (InputLayer)         (None, 28, 28, 1)         0         \n",
      "_________________________________________________________________\n",
      "conv2d_8 (Conv2D)            (None, 28, 28, 32)        832       \n",
      "_________________________________________________________________\n",
      "max_pooling2d_8 (MaxPooling2 (None, 14, 14, 32)        0         \n",
      "_________________________________________________________________\n",
      "conv2d_9 (Conv2D)            (None, 14, 14, 64)        51264     \n",
      "_________________________________________________________________\n",
      "max_pooling2d_9 (MaxPooling2 (None, 7, 7, 64)          0         \n",
      "_________________________________________________________________\n",
      "conv2d_10 (Conv2D)           (None, 7, 7, 128)         204928    \n",
      "_________________________________________________________________\n",
      "max_pooling2d_10 (MaxPooling (None, 3, 3, 128)         0         \n",
      "_________________________________________________________________\n",
      "flatten_3 (Flatten)          (None, 1152)              0         \n",
      "_________________________________________________________________\n",
      "dense_5 (Dense)              (None, 100)               115300    \n",
      "_________________________________________________________________\n",
      "dense_6 (Dense)              (None, 10)                1010      \n",
      "=================================================================\n",
      "Total params: 373,334\n",
      "Trainable params: 373,334\n",
      "Non-trainable params: 0\n",
      "_________________________________________________________________\n"
     ]
    }
   ],
   "source": [
    "CNNmodel2 = Model(x,y)\n",
    "CNNmodel2.compile(loss='mse', optimizer=SGD(lr=0.007), metrics=['accuracy'])\n",
    "CNNmodel2.summary()"
   ]
  },
  {
   "cell_type": "code",
   "execution_count": 37,
   "metadata": {},
   "outputs": [
    {
     "name": "stdout",
     "output_type": "stream",
     "text": [
      "Epoch 1/10\n",
      "60000/60000 [==============================] - 149s 2ms/step - loss: 0.0951 - acc: 0.0903\n",
      "Epoch 2/10\n",
      "60000/60000 [==============================] - 149s 2ms/step - loss: 0.0932 - acc: 0.0904\n",
      "Epoch 3/10\n",
      "60000/60000 [==============================] - 149s 2ms/step - loss: 0.0923 - acc: 0.1010\n",
      "Epoch 4/10\n",
      "60000/60000 [==============================] - 149s 2ms/step - loss: 0.0917 - acc: 0.1045\n",
      "Epoch 5/10\n",
      "60000/60000 [==============================] - 149s 2ms/step - loss: 0.0912 - acc: 0.1044\n",
      "Epoch 6/10\n",
      "60000/60000 [==============================] - 149s 2ms/step - loss: 0.0908 - acc: 0.1044\n",
      "Epoch 7/10\n",
      "60000/60000 [==============================] - 149s 2ms/step - loss: 0.0906 - acc: 0.1044\n",
      "Epoch 8/10\n",
      "60000/60000 [==============================] - 148s 2ms/step - loss: 0.0904 - acc: 0.1044\n",
      "Epoch 9/10\n",
      "60000/60000 [==============================] - 149s 2ms/step - loss: 0.0902 - acc: 0.1044\n",
      "Epoch 10/10\n",
      "60000/60000 [==============================] - 149s 2ms/step - loss: 0.0901 - acc: 0.1044\n"
     ]
    },
    {
     "data": {
      "text/plain": [
       "<keras.callbacks.History at 0x25922bb87b8>"
      ]
     },
     "execution_count": 37,
     "metadata": {},
     "output_type": "execute_result"
    }
   ],
   "source": [
    "CNNmodel2.fit(x_train,y_train,batch_size=100, epochs=10)"
   ]
  },
  {
   "cell_type": "code",
   "execution_count": 38,
   "metadata": {},
   "outputs": [
    {
     "name": "stdout",
     "output_type": "stream",
     "text": [
      "Epoch 1/10\n",
      "60000/60000 [==============================] - 118s 2ms/step - loss: 0.0901 - acc: 0.1044\n",
      "Epoch 2/10\n",
      "60000/60000 [==============================] - 112s 2ms/step - loss: 0.0901 - acc: 0.1044\n",
      "Epoch 3/10\n",
      "60000/60000 [==============================] - 112s 2ms/step - loss: 0.0901 - acc: 0.1044\n",
      "Epoch 4/10\n",
      "60000/60000 [==============================] - 110s 2ms/step - loss: 0.0901 - acc: 0.1044\n",
      "Epoch 5/10\n",
      "60000/60000 [==============================] - 111s 2ms/step - loss: 0.0901 - acc: 0.1044\n",
      "Epoch 6/10\n",
      "60000/60000 [==============================] - 108s 2ms/step - loss: 0.0901 - acc: 0.1044\n",
      "Epoch 7/10\n",
      "60000/60000 [==============================] - 109s 2ms/step - loss: 0.0901 - acc: 0.1044\n",
      "Epoch 8/10\n",
      "60000/60000 [==============================] - 111s 2ms/step - loss: 0.0901 - acc: 0.1044\n",
      "Epoch 9/10\n",
      "60000/60000 [==============================] - 114s 2ms/step - loss: 0.0901 - acc: 0.1044\n",
      "Epoch 10/10\n",
      "60000/60000 [==============================] - 114s 2ms/step - loss: 0.0901 - acc: 0.1044\n"
     ]
    },
    {
     "data": {
      "text/plain": [
       "<keras.callbacks.History at 0x259260c5ba8>"
      ]
     },
     "execution_count": 38,
     "metadata": {},
     "output_type": "execute_result"
    }
   ],
   "source": [
    "CNNmodel2.fit(x_train,y_train,batch_size=10000, epochs=10)"
   ]
  },
  {
   "cell_type": "code",
   "execution_count": 39,
   "metadata": {},
   "outputs": [
    {
     "name": "stdout",
     "output_type": "stream",
     "text": [
      "60000/60000 [==============================] - 70s 1ms/step\n",
      "Loss : 0.090073\n",
      "Accuracy is :10.441667\n"
     ]
    }
   ],
   "source": [
    "score = CNNmodel2.evaluate(x_train,y_train,batch_size=100)\n",
    "print(\"Loss : %f\" %score[0])\n",
    "print(\"Accuracy is :%f\" %(score[1]*100))"
   ]
  },
  {
   "cell_type": "markdown",
   "metadata": {},
   "source": [
    "# 小結3\n",
    "##### 看起來準確率依舊慘烈呢... \n",
    "##### 雖然比起前面的好一點點，但好像也就只有一點點\n",
    "##### 而且 Sequential的版本好像還跑的快一點點 -`д´-"
   ]
  },
  {
   "cell_type": "markdown",
   "metadata": {},
   "source": [
    "# 那如果把relu換成sigmoid呢？"
   ]
  },
  {
   "cell_type": "code",
   "execution_count": 40,
   "metadata": {},
   "outputs": [],
   "source": [
    "#定義每一層神經元數量\n",
    "f1 = Conv2D(4,(5,5),padding='same',activation='sigmoid' ) #4\n",
    "f2 = MaxPool2D(pool_size=(2,2)) #pooling\n",
    "f3 = Conv2D(8,(5,5),padding='same',activation='sigmoid' )  #8\n",
    "f4 = MaxPool2D(pool_size=(2,2)) #pooling\n",
    "f5 = Conv2D(16,(5,5),padding='same',activation='sigmoid' ) #16\n",
    "f6 = MaxPool2D(pool_size=(2,2)) #pooling\n",
    "f7 = Flatten() #拉平\n",
    "f8 = Dense(100,activation='sigmoid')\n",
    "f9 = Dense(10,activation='softmax') #9->10"
   ]
  },
  {
   "cell_type": "code",
   "execution_count": 41,
   "metadata": {},
   "outputs": [],
   "source": [
    "h1 = f1(x)\n",
    "h2 = f2(h1)\n",
    "h3 = f3(h2)\n",
    "h4 = f4(h3)\n",
    "h5 = f5(h4)\n",
    "h6 = f6(h5)\n",
    "h7 = f7(h6)\n",
    "h8 = f8(h7)\n",
    "y = f9(h8)"
   ]
  },
  {
   "cell_type": "code",
   "execution_count": 42,
   "metadata": {},
   "outputs": [
    {
     "name": "stdout",
     "output_type": "stream",
     "text": [
      "_________________________________________________________________\n",
      "Layer (type)                 Output Shape              Param #   \n",
      "=================================================================\n",
      "input_1 (InputLayer)         (None, 28, 28, 1)         0         \n",
      "_________________________________________________________________\n",
      "conv2d_11 (Conv2D)           (None, 28, 28, 4)         104       \n",
      "_________________________________________________________________\n",
      "max_pooling2d_11 (MaxPooling (None, 14, 14, 4)         0         \n",
      "_________________________________________________________________\n",
      "conv2d_12 (Conv2D)           (None, 14, 14, 8)         808       \n",
      "_________________________________________________________________\n",
      "max_pooling2d_12 (MaxPooling (None, 7, 7, 8)           0         \n",
      "_________________________________________________________________\n",
      "conv2d_13 (Conv2D)           (None, 7, 7, 16)          3216      \n",
      "_________________________________________________________________\n",
      "max_pooling2d_13 (MaxPooling (None, 3, 3, 16)          0         \n",
      "_________________________________________________________________\n",
      "flatten_4 (Flatten)          (None, 144)               0         \n",
      "_________________________________________________________________\n",
      "dense_7 (Dense)              (None, 100)               14500     \n",
      "_________________________________________________________________\n",
      "dense_8 (Dense)              (None, 10)                1010      \n",
      "=================================================================\n",
      "Total params: 19,638\n",
      "Trainable params: 19,638\n",
      "Non-trainable params: 0\n",
      "_________________________________________________________________\n"
     ]
    }
   ],
   "source": [
    "CNNmodel3 = Model(x,y)\n",
    "CNNmodel3.compile(loss='mse', optimizer=SGD(lr=0.007), metrics=['accuracy'])\n",
    "CNNmodel3.summary()"
   ]
  },
  {
   "cell_type": "code",
   "execution_count": 43,
   "metadata": {},
   "outputs": [
    {
     "name": "stdout",
     "output_type": "stream",
     "text": [
      "Epoch 1/10\n",
      "60000/60000 [==============================] - 42s 698us/step - loss: 0.0927 - acc: 0.0999\n",
      "Epoch 2/10\n",
      "60000/60000 [==============================] - 42s 694us/step - loss: 0.0916 - acc: 0.10214s \n",
      "Epoch 3/10\n",
      "60000/60000 [==============================] - 41s 688us/step - loss: 0.0910 - acc: 0.09870s - loss: 0.0910 - acc:\n",
      "Epoch 4/10\n",
      "60000/60000 [==============================] - 41s 689us/step - loss: 0.0907 - acc: 0.09979s - -\n",
      "Epoch 5/10\n",
      "60000/60000 [==============================] - 41s 686us/step - loss: 0.0905 - acc: 0.1080\n",
      "Epoch 6/10\n",
      "60000/60000 [==============================] - 41s 681us/step - loss: 0.0904 - acc: 0.1124\n",
      "Epoch 7/10\n",
      "60000/60000 [==============================] - 41s 678us/step - loss: 0.0903 - acc: 0.11241s - loss: 0.0903 - ac - ETA: 1s - loss: 0.09\n",
      "Epoch 8/10\n",
      "60000/60000 [==============================] - 41s 676us/step - loss: 0.0902 - acc: 0.11241s - loss: 0.0 - ETA: 0s - loss: 0.0902 - acc: 0.1 - ETA: 0s - loss: 0.0902 - acc: 0\n",
      "Epoch 9/10\n",
      "60000/60000 [==============================] - 40s 672us/step - loss: 0.0902 - acc: 0.11240s - loss: 0.0902 -\n",
      "Epoch 10/10\n",
      "60000/60000 [==============================] - 41s 680us/step - loss: 0.0901 - acc: 0.11240s - loss: 0.0901 - acc: \n"
     ]
    },
    {
     "data": {
      "text/plain": [
       "<keras.callbacks.History at 0x2592299c7f0>"
      ]
     },
     "execution_count": 43,
     "metadata": {},
     "output_type": "execute_result"
    }
   ],
   "source": [
    "CNNmodel3.fit(x_train,y_train,batch_size=100, epochs=10)"
   ]
  },
  {
   "cell_type": "code",
   "execution_count": 44,
   "metadata": {},
   "outputs": [
    {
     "name": "stdout",
     "output_type": "stream",
     "text": [
      "60000/60000 [==============================] - 16s 267us/step\n",
      "Loss : 0.090096\n",
      "Accuracy is :11.236667\n"
     ]
    }
   ],
   "source": [
    "score = CNNmodel3.evaluate(x_train,y_train,batch_size=100)\n",
    "print(\"Loss : %f\" %score[0])\n",
    "print(\"Accuracy is :%f\" %(score[1]*100))"
   ]
  },
  {
   "cell_type": "markdown",
   "metadata": {},
   "source": [
    "# 小結4\n",
    "好的，就比前面的relu又好一咪咪而已。看來Funcional API可能不是CNN的好歸屬╮(╯_╰)╭"
   ]
  },
  {
   "cell_type": "markdown",
   "metadata": {},
   "source": [
    "# 最後我們來前人種...咳咳，不是，是利用之前助教教的轉移學習，來看看把原先老師給的model包一包之後在額外加一層NN試試看 ლ(́◕◞౪◟◕‵ლ)"
   ]
  },
  {
   "cell_type": "code",
   "execution_count": 54,
   "metadata": {},
   "outputs": [],
   "source": [
    "first_layer = [Conv2D(4,(5,5),padding='same',input_shape=(28,28,1) ),Activation('sigmoid')]\n",
    "second_layer = [MaxPool2D(pool_size=(2,2))]\n",
    "third_layer = [Conv2D(8,(5,5),padding='same'),(Activation('sigmoid'))]\n",
    "forth_layer = [MaxPool2D(pool_size=(2,2))]\n",
    "fifth_layer = [Conv2D(16,(5,5),padding='same'),(Activation('sigmoid'))]\n",
    "sixth_layer = [MaxPool2D(pool_size=(2,2))]\n",
    "seventh_layer = [Flatten()]\n",
    "eighth_layer = [Dense(9),(Activation('sigmoid'))]\n",
    "last_layer = [Dense(10),(Activation('softmax'))]"
   ]
  },
  {
   "cell_type": "code",
   "execution_count": 46,
   "metadata": {},
   "outputs": [],
   "source": [
    "all_expect_layer = (first_layer + second_layer + third_layer + forth_layer + fifth_layer+\n",
    "                   sixth_layer)"
   ]
  },
  {
   "cell_type": "code",
   "execution_count": 47,
   "metadata": {},
   "outputs": [
    {
     "name": "stdout",
     "output_type": "stream",
     "text": [
      "_________________________________________________________________\n",
      "Layer (type)                 Output Shape              Param #   \n",
      "=================================================================\n",
      "conv2d_14 (Conv2D)           (None, 28, 28, 4)         104       \n",
      "_________________________________________________________________\n",
      "activation_6 (Activation)    (None, 28, 28, 4)         0         \n",
      "_________________________________________________________________\n",
      "max_pooling2d_14 (MaxPooling (None, 14, 14, 4)         0         \n",
      "_________________________________________________________________\n",
      "conv2d_15 (Conv2D)           (None, 14, 14, 8)         808       \n",
      "_________________________________________________________________\n",
      "activation_7 (Activation)    (None, 14, 14, 8)         0         \n",
      "_________________________________________________________________\n",
      "max_pooling2d_15 (MaxPooling (None, 7, 7, 8)           0         \n",
      "_________________________________________________________________\n",
      "conv2d_16 (Conv2D)           (None, 7, 7, 16)          3216      \n",
      "_________________________________________________________________\n",
      "activation_8 (Activation)    (None, 7, 7, 16)          0         \n",
      "_________________________________________________________________\n",
      "max_pooling2d_16 (MaxPooling (None, 3, 3, 16)          0         \n",
      "_________________________________________________________________\n",
      "flatten_5 (Flatten)          (None, 144)               0         \n",
      "_________________________________________________________________\n",
      "dense_9 (Dense)              (None, 9)                 1305      \n",
      "_________________________________________________________________\n",
      "activation_9 (Activation)    (None, 9)                 0         \n",
      "_________________________________________________________________\n",
      "dense_10 (Dense)             (None, 10)                100       \n",
      "_________________________________________________________________\n",
      "activation_10 (Activation)   (None, 10)                0         \n",
      "=================================================================\n",
      "Total params: 5,533\n",
      "Trainable params: 5,533\n",
      "Non-trainable params: 0\n",
      "_________________________________________________________________\n"
     ]
    }
   ],
   "source": [
    "CNNmodel4 = Sequential(all_expect_layer + seventh_layer + eighth_layer + last_layer) \n",
    "CNNmodel4 .compile(loss='mse', optimizer=SGD(lr=0.007), metrics=['accuracy'])\n",
    "CNNmodel4.summary() "
   ]
  },
  {
   "cell_type": "code",
   "execution_count": 48,
   "metadata": {},
   "outputs": [
    {
     "name": "stdout",
     "output_type": "stream",
     "text": [
      "Epoch 1/10\n",
      "60000/60000 [==============================] - 41s 689us/step - loss: 0.0914 - acc: 0.0986\n",
      "Epoch 2/10\n",
      "60000/60000 [==============================] - 40s 671us/step - loss: 0.0912 - acc: 0.0986\n",
      "Epoch 3/10\n",
      "60000/60000 [==============================] - 41s 678us/step - loss: 0.0911 - acc: 0.0986\n",
      "Epoch 4/10\n",
      "60000/60000 [==============================] - 41s 675us/step - loss: 0.0911 - acc: 0.09861s - loss: 0.0\n",
      "Epoch 5/10\n",
      "60000/60000 [==============================] - 41s 677us/step - loss: 0.0910 - acc: 0.0986\n",
      "Epoch 6/10\n",
      "60000/60000 [==============================] - 40s 674us/step - loss: 0.0909 - acc: 0.0986\n",
      "Epoch 7/10\n",
      "60000/60000 [==============================] - 40s 673us/step - loss: 0.0909 - acc: 0.0986\n",
      "Epoch 8/10\n",
      "60000/60000 [==============================] - ETA: 0s - loss: 0.0908 - acc: 0.098 - 40s 671us/step - loss: 0.0908 - acc: 0.0986\n",
      "Epoch 9/10\n",
      "60000/60000 [==============================] - 41s 677us/step - loss: 0.0908 - acc: 0.0986\n",
      "Epoch 10/10\n",
      "60000/60000 [==============================] - 40s 674us/step - loss: 0.0908 - acc: 0.0986\n"
     ]
    },
    {
     "data": {
      "text/plain": [
       "<keras.callbacks.History at 0x25935863c88>"
      ]
     },
     "execution_count": 48,
     "metadata": {},
     "output_type": "execute_result"
    }
   ],
   "source": [
    "CNNmodel4.fit(x_train,y_train,batch_size=100, epochs=10)"
   ]
  },
  {
   "cell_type": "code",
   "execution_count": 49,
   "metadata": {},
   "outputs": [
    {
     "name": "stdout",
     "output_type": "stream",
     "text": [
      "60000/60000 [==============================] - 16s 267us/step\n",
      "Loss : 0.090738\n",
      "Accuracy is :9.863333\n"
     ]
    }
   ],
   "source": [
    "score = CNNmodel4.evaluate(x_train,y_train,batch_size=100)\n",
    "print(\"Loss : %f\" %score[0])\n",
    "print(\"Accuracy is :%f\" %(score[1]*100))"
   ]
  },
  {
   "cell_type": "code",
   "execution_count": 55,
   "metadata": {},
   "outputs": [],
   "source": [
    "add_nn = [Dense(80),(Activation('sigmoid'))]"
   ]
  },
  {
   "cell_type": "code",
   "execution_count": 56,
   "metadata": {},
   "outputs": [
    {
     "name": "stdout",
     "output_type": "stream",
     "text": [
      "_________________________________________________________________\n",
      "Layer (type)                 Output Shape              Param #   \n",
      "=================================================================\n",
      "conv2d_14 (Conv2D)           (None, 28, 28, 4)         104       \n",
      "_________________________________________________________________\n",
      "activation_6 (Activation)    (None, 28, 28, 4)         0         \n",
      "_________________________________________________________________\n",
      "max_pooling2d_14 (MaxPooling (None, 14, 14, 4)         0         \n",
      "_________________________________________________________________\n",
      "conv2d_15 (Conv2D)           (None, 14, 14, 8)         808       \n",
      "_________________________________________________________________\n",
      "activation_7 (Activation)    (None, 14, 14, 8)         0         \n",
      "_________________________________________________________________\n",
      "max_pooling2d_15 (MaxPooling (None, 7, 7, 8)           0         \n",
      "_________________________________________________________________\n",
      "conv2d_16 (Conv2D)           (None, 7, 7, 16)          3216      \n",
      "_________________________________________________________________\n",
      "activation_8 (Activation)    (None, 7, 7, 16)          0         \n",
      "_________________________________________________________________\n",
      "max_pooling2d_16 (MaxPooling (None, 3, 3, 16)          0         \n",
      "_________________________________________________________________\n",
      "flatten_6 (Flatten)          (None, 144)               0         \n",
      "_________________________________________________________________\n",
      "dense_12 (Dense)             (None, 9)                 1305      \n",
      "_________________________________________________________________\n",
      "activation_15 (Activation)   (None, 9)                 0         \n",
      "_________________________________________________________________\n",
      "dense_14 (Dense)             (None, 80)                800       \n",
      "_________________________________________________________________\n",
      "activation_17 (Activation)   (None, 80)                0         \n",
      "_________________________________________________________________\n",
      "dense_13 (Dense)             (None, 10)                810       \n",
      "_________________________________________________________________\n",
      "activation_16 (Activation)   (None, 10)                0         \n",
      "=================================================================\n",
      "Total params: 7,043\n",
      "Trainable params: 7,043\n",
      "Non-trainable params: 0\n",
      "_________________________________________________________________\n"
     ]
    }
   ],
   "source": [
    "CNNmodel4 = Sequential(all_expect_layer + seventh_layer + eighth_layer + add_nn + last_layer) \n",
    "CNNmodel4 .compile(loss='mse', optimizer=SGD(lr=0.007), metrics=['accuracy'])\n",
    "CNNmodel4.summary() "
   ]
  },
  {
   "cell_type": "code",
   "execution_count": 57,
   "metadata": {},
   "outputs": [
    {
     "name": "stdout",
     "output_type": "stream",
     "text": [
      "Epoch 1/10\n",
      "60000/60000 [==============================] - 42s 701us/step - loss: 0.0930 - acc: 0.0991\n",
      "Epoch 2/10\n",
      "60000/60000 [==============================] - 41s 683us/step - loss: 0.0921 - acc: 0.0991\n",
      "Epoch 3/10\n",
      "60000/60000 [==============================] - 41s 688us/step - loss: 0.0915 - acc: 0.0991\n",
      "Epoch 4/10\n",
      "60000/60000 [==============================] - 41s 686us/step - loss: 0.0912 - acc: 0.0992\n",
      "Epoch 5/10\n",
      "60000/60000 [==============================] - 39s 645us/step - loss: 0.0909 - acc: 0.0991\n",
      "Epoch 6/10\n",
      "60000/60000 [==============================] - 37s 611us/step - loss: 0.0908 - acc: 0.0991\n",
      "Epoch 7/10\n",
      "60000/60000 [==============================] - 37s 611us/step - loss: 0.0906 - acc: 0.0991\n",
      "Epoch 8/10\n",
      "60000/60000 [==============================] - 36s 607us/step - loss: 0.0905 - acc: 0.09913s - lo\n",
      "Epoch 9/10\n",
      "60000/60000 [==============================] - 37s 610us/step - loss: 0.0904 - acc: 0.1099\n",
      "Epoch 10/10\n",
      "60000/60000 [==============================] - 37s 618us/step - loss: 0.0904 - acc: 0.11240s - loss: 0.0904 -\n"
     ]
    },
    {
     "data": {
      "text/plain": [
       "<keras.callbacks.History at 0x25935c03080>"
      ]
     },
     "execution_count": 57,
     "metadata": {},
     "output_type": "execute_result"
    }
   ],
   "source": [
    "CNNmodel4.fit(x_train,y_train,batch_size=100, epochs=10)"
   ]
  },
  {
   "cell_type": "code",
   "execution_count": 58,
   "metadata": {},
   "outputs": [
    {
     "name": "stdout",
     "output_type": "stream",
     "text": [
      "60000/60000 [==============================] - 15s 245us/step\n",
      "Loss : 0.090327\n",
      "Accuracy is :11.236667\n"
     ]
    }
   ],
   "source": [
    "score = CNNmodel4.evaluate(x_train,y_train,batch_size=100)\n",
    "print(\"Loss : %f\" %score[0])\n",
    "print(\"Accuracy is :%f\" %(score[1]*100))"
   ]
  },
  {
   "cell_type": "markdown",
   "metadata": {},
   "source": [
    "# 小結5\n",
    "增加層數準確度可能會上升，或許之後重複訓練準確度會更好一點，但還是不知道為什麼準確度沒有一開始直接用Sequential搭出來的好。ˊ ˋ "
   ]
  }
 ],
 "metadata": {
  "kernelspec": {
   "display_name": "Python 3",
   "language": "python",
   "name": "python3"
  },
  "language_info": {
   "codemirror_mode": {
    "name": "ipython",
    "version": 3
   },
   "file_extension": ".py",
   "mimetype": "text/x-python",
   "name": "python",
   "nbconvert_exporter": "python",
   "pygments_lexer": "ipython3",
   "version": "3.6.8"
  }
 },
 "nbformat": 4,
 "nbformat_minor": 2
}
